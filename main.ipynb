pip install PyPDF2
import PyPDF2
FILE_PATH = '/INV_8036417085_Eco.pdf' 
maxNumber = 9999
with open(FILE_PATH, mode='rb') as f:
    reader = PyPDF2.PdfFileReader(f)
    print(f"Starte Passwortsuche")
    for i in range(maxNumber+1):
        passwort = str(i).zfill(4)
        if reader.decrypt(passwort) == 1:
            print(f'Passwort: {passwort}')
            break
        else:
            if i%1000 == 1:
                print(passwort)
